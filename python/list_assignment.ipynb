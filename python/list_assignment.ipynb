{
 "cells": [
  {
   "cell_type": "markdown",
   "id": "3df68a34-d472-47a0-b23e-60dc8becf093",
   "metadata": {},
   "source": [
    "# 1. Write a  Python program to sum all the items in a list."
   ]
  },
  {
   "cell_type": "code",
   "execution_count": 4,
   "id": "9e41c5e8-c44e-436e-8b5f-1642257a5411",
   "metadata": {},
   "outputs": [
    {
     "data": {
      "text/plain": [
       "[0, 1, 2, 3, 4, 5, 6, 7, 8, 9]"
      ]
     },
     "execution_count": 4,
     "metadata": {},
     "output_type": "execute_result"
    }
   ],
   "source": [
    "lst = [i for i in range(10)]\n",
    "lst"
   ]
  },
  {
   "cell_type": "code",
   "execution_count": 6,
   "id": "242d99b0-0c2e-46e3-848d-6d077ed028bd",
   "metadata": {},
   "outputs": [
    {
     "name": "stdout",
     "output_type": "stream",
     "text": [
      "45\n"
     ]
    }
   ],
   "source": [
    "sum=0\n",
    "for i in lst:\n",
    "    sum+=i\n",
    "print(sum)"
   ]
  },
  {
   "cell_type": "markdown",
   "id": "1a3f3c76-5a4c-42a7-b38f-86e67da1c337",
   "metadata": {},
   "source": [
    "# 2. Write a Python program to get the largest number from a list."
   ]
  },
  {
   "cell_type": "code",
   "execution_count": 9,
   "id": "1ebe8434-1186-4e48-9567-bb7ae85e2a49",
   "metadata": {},
   "outputs": [
    {
     "name": "stdout",
     "output_type": "stream",
     "text": [
      "9\n"
     ]
    }
   ],
   "source": [
    "largest=lst[0]\n",
    "for i in lst:\n",
    "    if largest<i:\n",
    "        largest=i\n",
    "print(largest)\n",
    "        "
   ]
  },
  {
   "cell_type": "code",
   "execution_count": null,
   "id": "154a968b-4a9d-4e0b-9205-8d83591bbccc",
   "metadata": {},
   "outputs": [],
   "source": []
  },
  {
   "cell_type": "markdown",
   "id": "d2e46c97-e23a-405b-9bdd-67607ad8bce1",
   "metadata": {},
   "source": [
    "# 3. Write a Python program to clone or copy item in a list."
   ]
  },
  {
   "cell_type": "code",
   "execution_count": 14,
   "id": "d005d526-1095-4be8-aa13-4e5bcbf1c467",
   "metadata": {},
   "outputs": [
    {
     "name": "stdout",
     "output_type": "stream",
     "text": [
      "[0, 1, 2, 3, 4, 5, 6, 7, 8, 9]\n"
     ]
    }
   ],
   "source": [
    "lst1 = [i for i in lst]\n",
    "print(lst1)"
   ]
  },
  {
   "cell_type": "code",
   "execution_count": null,
   "id": "397ff047-8826-4859-b396-dcf51417ad4b",
   "metadata": {},
   "outputs": [],
   "source": []
  },
  {
   "cell_type": "markdown",
   "id": "c2ec5877-8440-47df-82ae-d06a2784fc83",
   "metadata": {},
   "source": [
    "# 4. Write a Python program to access the index of an element present in a list."
   ]
  },
  {
   "cell_type": "code",
   "execution_count": 16,
   "id": "c47f7f36-bbb2-4111-b002-2be43e928e05",
   "metadata": {},
   "outputs": [
    {
     "name": "stdin",
     "output_type": "stream",
     "text": [
      "enter the element you want the index for 5\n"
     ]
    },
    {
     "name": "stdout",
     "output_type": "stream",
     "text": [
      "5\n"
     ]
    }
   ],
   "source": [
    "element=int(input(\"enter the element you want the index for\"))\n",
    "index=0\n",
    "for i in lst:\n",
    "    if i==element:\n",
    "        break\n",
    "    index+=1\n",
    "print(index)"
   ]
  }
 ],
 "metadata": {
  "kernelspec": {
   "display_name": "Python 3 (ipykernel)",
   "language": "python",
   "name": "python3"
  },
  "language_info": {
   "codemirror_mode": {
    "name": "ipython",
    "version": 3
   },
   "file_extension": ".py",
   "mimetype": "text/x-python",
   "name": "python",
   "nbconvert_exporter": "python",
   "pygments_lexer": "ipython3",
   "version": "3.11.7"
  }
 },
 "nbformat": 4,
 "nbformat_minor": 5
}
